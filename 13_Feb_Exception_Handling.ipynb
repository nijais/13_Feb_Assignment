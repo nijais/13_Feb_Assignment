{
 "cells": [
  {
   "cell_type": "markdown",
   "id": "7ab73515-5748-4acf-b4de-8df03fd3cd4b",
   "metadata": {},
   "source": [
    "# Q1. Explain why we have to use the Exception class while creating a Custom Exception.\n",
    "# Note: Here Exception class refers to the base class for all the exceptions.\n",
    "\n",
    "#### When creating a custom exception in Python, it is recommended to inherit from the base Exception class or one of its subclasses. Here's why:\n",
    "##### 1. Inheriting from the Exception class provides the custom exception with all the functionality of a standard exception. This includes the ability to raise and catch the exception, as well as access to attributes like the error message.\n",
    "\n",
    "#### 2.Inheriting from Exception ensures that the custom exception is compatible with the existing exception hierarchy in Python. Python's built-in exceptions form a hierarchy, with the base Exception class at the top, followed by various subclasses such as ValueError and TypeError. By inheriting from Exception, the custom exception becomes a part of this hierarchy and can be caught using the same mechanisms as built-in exceptions.\n",
    "\n",
    "#### Overall, inheriting from the Exception class is good practice when creating custom exceptions in Python. It ensures that the new exception is compatible with the existing exception hierarchy and provides all the necessary functionality for catching and handling exceptions."
   ]
  },
  {
   "cell_type": "code",
   "execution_count": null,
   "id": "380c7fbb-2830-4e0d-bd4a-fad2388e7ba0",
   "metadata": {},
   "outputs": [],
   "source": []
  },
  {
   "cell_type": "markdown",
   "id": "8f46aeed-861e-4351-b397-e955e6563ece",
   "metadata": {},
   "source": [
    "# Q2. Write a python program to print Python Exception Hierarchy.\n",
    "\n",
    "#### # import inspect module\n",
    "import inspect\n",
    "  \n",
    "#### our treeClass function\n",
    "def treeClass(cls, ind = 0):\n",
    "    \n",
    "      # print name of the class\n",
    "    print ('-' * ind, cls.__name__)\n",
    "      \n",
    "    # iterating through subclasses\n",
    "    for i in cls.__subclasses__():\n",
    "        treeClass(i, ind + 3)\n",
    "\n",
    "print (\"Hierarchy for Built-in exceptions is : \")\n",
    "\n",
    "#### inspect.getmro() Return a tuple \n",
    "#### of class  cls’s base classes.\n",
    "  \n",
    "#### building a tree hierarchy \n",
    "inspect.getclasstree(inspect.getmro(BaseException))\n",
    "  \n",
    "#### function call\n",
    "treeClass(BaseException)"
   ]
  },
  {
   "cell_type": "code",
   "execution_count": null,
   "id": "4a1d74b2-ddd7-4816-be50-249b2c3a6d6e",
   "metadata": {},
   "outputs": [],
   "source": []
  },
  {
   "cell_type": "markdown",
   "id": "baca6d42-f3d5-4f76-905f-397340fe9a32",
   "metadata": {},
   "source": [
    "# Q3. What errors are defined in the ArithmeticError class? Explain any two with an example.\n",
    "\n",
    "#### The ArithmeticError class is a built-in Python exception class that serves as the base class for all exceptions related to arithmetic errors. This includes division by zero (ZeroDivisionError), integer overflow (OverflowError), and other arithmetic-related errors.\n",
    "\n",
    "#### Here are two examples of errors that are defined in the ArithmeticError class:\n",
    "#### 1. ZeroDivisionError: This error occurs when an attempt is made to divide a number by zero. For example:\n",
    "1/0\n",
    "#### output : ZeroDivisionError                         Traceback (most recent call last)\n",
    "#### Cell In[6], line 1\n",
    "#### ----> 1 1/0 \n",
    "#### ZeroDivisionError: division by zero\n",
    "\n",
    "#### In this case, the code attempts to divide the number 1 by 0, which is not a valid operation and results in a ZeroDivisionError exception.\n",
    "\n",
    "#### 2. OverflowError: This error occurs when the result of an arithmetic operation is too large to be represented by the data type being used. For example:\n",
    "11111 ** 1111\n",
    "#### output : ValueError: Exceeds the limit (4300) for integer string conversion; use sys.set_int_max_str_digits() to increase the limit\n",
    "\n",
    "#### It's important to note that while ZeroDivisionError and OverflowError are both defined in the ArithmeticError class, they are distinct exceptions and should be handled separately in code."
   ]
  },
  {
   "cell_type": "code",
   "execution_count": null,
   "id": "b8838431-d6ef-4075-955b-8713e4115de6",
   "metadata": {},
   "outputs": [],
   "source": []
  },
  {
   "cell_type": "markdown",
   "id": "8978488e-110a-4230-8fa4-d29185b35a5f",
   "metadata": {},
   "source": [
    "# Q4. Why LookupError class is used? Explain with an example KeyError and IndexError.\n",
    "\n",
    "#### The LookupError class is a built-in Python exception class that serves as the base class for all exceptions related to lookup errors. This includes errors that occur when a lookup operation fails, such as when a key is not found in a dictionary or when an index is out of range in a sequence.\n",
    "#### 1. KeyError: This error occurs when a key is not found in a dictionary. For example:\n",
    "dict = {\"first\": 1, \"second\": 2, \"third\": 3}\n",
    "d[\"fourth\"]\n",
    "#### In this case, the above code attempts to access the value associated with the key \"fourth\" in the dictionary dict+, but this key does not exist in the dictionary. This results in a KeyError exception being raised.\n",
    "\n",
    "#### 2. IndexError: This error occurs when an index is out of range in a sequence, such as a list or a string. For example:\n",
    "str = \"Nimish\"\n",
    "str[11]\n",
    "#### In this case, the above code attempts to access the character at index 11 in the string str, but this index is out of range for the length of the string (which is 6). This results in an IndexError exception being raised.\n",
    "\n",
    "#### The LookupError class is useful because it allows for more general error handling when dealing with lookup operations, rather than handling each specific error (such as KeyError or IndexError) separately. This can make code more concise and easier to read, especially when dealing with complex data structures or sequences."
   ]
  },
  {
   "cell_type": "code",
   "execution_count": null,
   "id": "b2cf35ed-a549-4a06-9c77-5c205552aa25",
   "metadata": {},
   "outputs": [],
   "source": []
  },
  {
   "cell_type": "markdown",
   "id": "691f16cd-e2f0-4237-a3ba-ca10511dd750",
   "metadata": {},
   "source": [
    "# Q5. Explain ImportError. What is ModuleNotFoundError?\n",
    "\n",
    "#### In Python, an ImportError is an exception that is raised when a module or package cannot be imported. This can occur for several reasons, such as when the module or package does not exist, when there is a syntax error in the module or package, or when the module or package depends on other modules or packages that are not installed or cannot be found.\n",
    "\n",
    "#### When an ImportError occurs, it is usually accompanied by a message that describes the specific error that occurred. For example:\n",
    "import pwskills\n",
    "#### output : ModuleNotFoundError: No module named 'pwskills'\n",
    "#### In this case, the ImportError occurs because the module pwskills does not exist and cannot be imported.\n",
    "\n",
    "#### One specific type of ImportError that was introduced in Python 3.6 is the ModuleNotFoundError. This is a subclass of ImportError that is raised when a module or package cannot be found. This error is more specific than ImportError and allows for more targeted error handling in cases where a missing module or package is the root cause of the error.\n",
    "\n",
    "#### It's important to note that ImportError and ModuleNotFoundError are just two of the many possible exceptions that can occur when importing modules or packages in Python. When working with modules and packages, it's a good idea to be familiar with the different types of exceptions that can occur and to handle them appropriately in code."
   ]
  },
  {
   "cell_type": "code",
   "execution_count": null,
   "id": "3b178cab-e637-47f8-8f2b-4bdc125c79a3",
   "metadata": {},
   "outputs": [],
   "source": []
  },
  {
   "cell_type": "markdown",
   "id": "6e4cd360-bbc4-4ae6-8ba7-bbac91e2a56e",
   "metadata": {},
   "source": [
    "# Q6. List down some best practices for exception handling in python.\n",
    "\n",
    "#### 1. Use exception handling only for exceptional cases: Exceptions should be used only for handling unexpected or exceptional situations, such as file not found, network errors, or invalid user input. Don't use exception handling for normal flow control or to avoid writing proper error checking code.\n",
    "\n",
    "#### 2. Be specific when handling exceptions: It's a good practice to handle specific exceptions rather than using a broad except statement that catches all exceptions. This can help make the code more maintainable and easier to debug.\n",
    "\n",
    "#### 3. Always avoid to write a multiple exception handling.\n",
    "\n",
    "#### 4. Provide informative error messages: When an exception is raised, it's important to provide informative error messages that explain what went wrong and how to fix the problem. This can help users and developers understand the issue and take appropriate action.\n",
    "\n",
    "#### 5. Use context managers: Context managers, such as the with statement, are a useful tool for managing resources that need to be cleaned up after they are used. They can help ensure that resources are properly closed or released, even if an exception is raised.\n",
    "\n",
    "#### 6. Log exceptions: Logging exceptions can be a valuable tool for debugging and monitoring software. By logging exceptions, developers can gain insight into the cause of errors and fix them more quickly.\n",
    "\n",
    "#### 7. Use try-except-else blocks: Try-except-else blocks can be a useful way to separate error handling code from the normal code path. The try block contains the normal code path, while the except block handles any exceptions that are raised. The else block contains code that should be executed only if no exceptions are raised.\n",
    " \n"
   ]
  },
  {
   "cell_type": "code",
   "execution_count": null,
   "id": "3508b9e4-0844-4b5c-8637-e86e9d53c9fd",
   "metadata": {},
   "outputs": [],
   "source": []
  },
  {
   "cell_type": "code",
   "execution_count": null,
   "id": "4a4d4b14-9c65-4d02-b7fa-24af19fba93f",
   "metadata": {},
   "outputs": [],
   "source": []
  },
  {
   "cell_type": "code",
   "execution_count": null,
   "id": "95f642e1-540f-4a82-9fd6-4540837d0a1e",
   "metadata": {},
   "outputs": [],
   "source": []
  },
  {
   "cell_type": "code",
   "execution_count": null,
   "id": "b64354c0-1c99-4349-9518-81891e844950",
   "metadata": {},
   "outputs": [],
   "source": []
  },
  {
   "cell_type": "code",
   "execution_count": null,
   "id": "422f5988-8969-4318-9342-c8fc0ca4dadd",
   "metadata": {},
   "outputs": [],
   "source": []
  },
  {
   "cell_type": "code",
   "execution_count": null,
   "id": "6c71f890-b573-4c48-b4bc-38d0b270d7ce",
   "metadata": {},
   "outputs": [],
   "source": []
  },
  {
   "cell_type": "code",
   "execution_count": null,
   "id": "0f8b7096-b5e0-4d9a-8cfe-d4c17ecc5947",
   "metadata": {},
   "outputs": [],
   "source": []
  }
 ],
 "metadata": {
  "kernelspec": {
   "display_name": "Python 3 (ipykernel)",
   "language": "python",
   "name": "python3"
  },
  "language_info": {
   "codemirror_mode": {
    "name": "ipython",
    "version": 3
   },
   "file_extension": ".py",
   "mimetype": "text/x-python",
   "name": "python",
   "nbconvert_exporter": "python",
   "pygments_lexer": "ipython3",
   "version": "3.10.8"
  }
 },
 "nbformat": 4,
 "nbformat_minor": 5
}
